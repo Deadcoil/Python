{
 "cells": [
  {
   "cell_type": "code",
   "execution_count": 1,
   "id": "348fa54d-d8b0-4222-8fd8-d0fb9b66c3af",
   "metadata": {},
   "outputs": [
    {
     "name": "stdout",
     "output_type": "stream",
     "text": [
      "Collecting python-Levenshtein\n",
      "  Downloading python_Levenshtein-0.21.1-py3-none-any.whl (9.4 kB)\n",
      "Collecting Levenshtein==0.21.1 (from python-Levenshtein)\n",
      "  Downloading Levenshtein-0.21.1-cp311-cp311-win_amd64.whl (101 kB)\n",
      "                                              0.0/101.4 kB ? eta -:--:--\n",
      "     ------------                             30.7/101.4 kB ? eta -:--:--\n",
      "     --------------                        41.0/101.4 kB 653.6 kB/s eta 0:00:01\n",
      "     --------------------------            71.7/101.4 kB 777.7 kB/s eta 0:00:01\n",
      "     ------------------------------------ 101.4/101.4 kB 828.9 kB/s eta 0:00:00\n",
      "Collecting rapidfuzz<4.0.0,>=2.3.0 (from Levenshtein==0.21.1->python-Levenshtein)\n",
      "  Downloading rapidfuzz-3.2.0-cp311-cp311-win_amd64.whl (1.8 MB)\n",
      "                                              0.0/1.8 MB ? eta -:--:--\n",
      "                                              0.0/1.8 MB 960.0 kB/s eta 0:00:02\n",
      "     ---                                      0.2/1.8 MB 1.6 MB/s eta 0:00:02\n",
      "     ----                                     0.2/1.8 MB 1.8 MB/s eta 0:00:01\n",
      "     -------                                  0.3/1.8 MB 1.9 MB/s eta 0:00:01\n",
      "     --------                                 0.4/1.8 MB 1.9 MB/s eta 0:00:01\n",
      "     ---------                                0.4/1.8 MB 1.5 MB/s eta 0:00:01\n",
      "     -----------                              0.5/1.8 MB 1.7 MB/s eta 0:00:01\n",
      "     -------------                            0.6/1.8 MB 1.6 MB/s eta 0:00:01\n",
      "     -------------                            0.6/1.8 MB 1.7 MB/s eta 0:00:01\n",
      "     ---------------                          0.7/1.8 MB 1.5 MB/s eta 0:00:01\n",
      "     ----------------                         0.8/1.8 MB 1.5 MB/s eta 0:00:01\n",
      "     ------------------                       0.9/1.8 MB 1.6 MB/s eta 0:00:01\n",
      "     -------------------                      0.9/1.8 MB 1.5 MB/s eta 0:00:01\n",
      "     ---------------------                    1.0/1.8 MB 1.5 MB/s eta 0:00:01\n",
      "     -----------------------                  1.1/1.8 MB 1.6 MB/s eta 0:00:01\n",
      "     -------------------------                1.2/1.8 MB 1.6 MB/s eta 0:00:01\n",
      "     ---------------------------              1.3/1.8 MB 1.6 MB/s eta 0:00:01\n",
      "     -----------------------------            1.3/1.8 MB 1.6 MB/s eta 0:00:01\n",
      "     -------------------------------          1.4/1.8 MB 1.6 MB/s eta 0:00:01\n",
      "     ----------------------------------       1.6/1.8 MB 1.7 MB/s eta 0:00:01\n",
      "     -----------------------------------      1.6/1.8 MB 1.7 MB/s eta 0:00:01\n",
      "     ------------------------------------     1.7/1.8 MB 1.6 MB/s eta 0:00:01\n",
      "     --------------------------------------   1.8/1.8 MB 1.7 MB/s eta 0:00:01\n",
      "     ---------------------------------------- 1.8/1.8 MB 1.7 MB/s eta 0:00:00\n",
      "Installing collected packages: rapidfuzz, Levenshtein, python-Levenshtein\n",
      "Successfully installed Levenshtein-0.21.1 python-Levenshtein-0.21.1 rapidfuzz-3.2.0\n"
     ]
    },
    {
     "name": "stderr",
     "output_type": "stream",
     "text": [
      "\n",
      "[notice] A new release of pip is available: 23.1.2 -> 23.2.1\n",
      "[notice] To update, run: python.exe -m pip install --upgrade pip\n"
     ]
    }
   ],
   "source": [
    "!pip install python-Levenshtein"
   ]
  },
  {
   "cell_type": "code",
   "execution_count": 4,
   "id": "1285f0eb-66cf-4d81-8347-29a495144e4a",
   "metadata": {},
   "outputs": [
    {
     "name": "stdout",
     "output_type": "stream",
     "text": [
      "The corrected word for 'outo' is 'Auto'.\n"
     ]
    }
   ],
   "source": [
    "import Levenshtein\n",
    "\n",
    "# Function to find the nearest word to the misspelled word\n",
    "def find_nearest_word(word, word_list):\n",
    "    distances = [(Levenshtein.distance(word, w), w) for w in word_list]\n",
    "    distances.sort()  # Sort by Levenshtein distance\n",
    "    return distances[0][1]  # Return the closest word\n",
    "\n",
    "# Example usage\n",
    "misspelled_word = \"outo\"  # Replace this with the misspelled word you want to correct\n",
    "word_list = [\"apple\", \"banana\", \"orange\", \"grape\", \"pear\", \"kiwi\", \"Auto\"]  # Replace this with your list of valid words\n",
    "\n",
    "corrected_word = find_nearest_word(misspelled_word, word_list)\n",
    "print(f\"The corrected word for '{misspelled_word}' is '{corrected_word}'.\")\n"
   ]
  },
  {
   "cell_type": "code",
   "execution_count": null,
   "id": "32017359-cce5-43ec-82ea-28bd6597eb70",
   "metadata": {},
   "outputs": [],
   "source": []
  }
 ],
 "metadata": {
  "kernelspec": {
   "display_name": "Python 3 (ipykernel)",
   "language": "python",
   "name": "python3"
  },
  "language_info": {
   "codemirror_mode": {
    "name": "ipython",
    "version": 3
   },
   "file_extension": ".py",
   "mimetype": "text/x-python",
   "name": "python",
   "nbconvert_exporter": "python",
   "pygments_lexer": "ipython3",
   "version": "3.11.4"
  }
 },
 "nbformat": 4,
 "nbformat_minor": 5
}
